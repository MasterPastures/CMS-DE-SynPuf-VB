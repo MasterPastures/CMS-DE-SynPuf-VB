{
 "cells": [
  {
   "cell_type": "code",
   "execution_count": 1,
   "metadata": {},
   "outputs": [],
   "source": [
    "import pandas as pd\n",
    "import os"
   ]
  },
  {
   "cell_type": "code",
   "execution_count": 3,
   "metadata": {},
   "outputs": [
    {
     "name": "stdout",
     "output_type": "stream",
     "text": [
      "['c:', 'CMS-DE-SynPuf-VB', 'notebooks']\n"
     ]
    }
   ],
   "source": [
    "ls = os.getcwd().split(os.sep)\n",
    "print(ls)"
   ]
  },
  {
   "cell_type": "code",
   "execution_count": 6,
   "metadata": {},
   "outputs": [
    {
     "data": {
      "text/plain": [
       "'c:\\\\CMS-DE-SynPuf-VB\\\\downloads\\\\beneficiary_summaries\\\\2009\\\\'"
      ]
     },
     "execution_count": 6,
     "metadata": {},
     "output_type": "execute_result"
    }
   ],
   "source": [
    "path_2008 = ls[0] + os.sep + 'CMS-DE-SynPuf-VB' + os.sep + 'downloads' + os.sep + 'beneficiary_summaries' + os.sep + '2008' + os.sep\n",
    "path_2009 = ls[0] + os.sep + 'CMS-DE-SynPuf-VB' + os.sep + 'downloads' + os.sep + 'beneficiary_summaries' + os.sep + '2009' + os.sep\n",
    "path_2010 = ls[0] + os.sep + 'CMS-DE-SynPuf-VB' + os.sep + 'downloads' + os.sep + 'beneficiary_summaries' + os.sep + '2010' + os.sep"
   ]
  },
  {
   "cell_type": "code",
   "execution_count": null,
   "metadata": {},
   "outputs": [],
   "source": []
  }
 ],
 "metadata": {
  "kernelspec": {
   "display_name": "Python 3",
   "language": "python",
   "name": "python3"
  },
  "language_info": {
   "codemirror_mode": {
    "name": "ipython",
    "version": 3
   },
   "file_extension": ".py",
   "mimetype": "text/x-python",
   "name": "python",
   "nbconvert_exporter": "python",
   "pygments_lexer": "ipython3",
   "version": "3.11.0"
  }
 },
 "nbformat": 4,
 "nbformat_minor": 2
}
